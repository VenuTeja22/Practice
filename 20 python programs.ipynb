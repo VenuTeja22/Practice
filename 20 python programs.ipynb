{
  "nbformat": 4,
  "nbformat_minor": 0,
  "metadata": {
    "colab": {
      "provenance": []
    },
    "kernelspec": {
      "name": "python3",
      "display_name": "Python 3"
    },
    "language_info": {
      "name": "python"
    }
  },
  "cells": [
    {
      "cell_type": "code",
      "execution_count": null,
      "metadata": {
        "colab": {
          "base_uri": "https://localhost:8080/"
        },
        "id": "U4yvZHRJVzpE",
        "outputId": "e2062536-c849-40cd-a97f-f50429a34a45"
      },
      "outputs": [
        {
          "output_type": "stream",
          "name": "stdout",
          "text": [
            "Enter a number: 50\n",
            "The number 50 is Even.\n"
          ]
        }
      ],
      "source": [
        "def check_even_odd(number):\n",
        "    if number % 2 == 0:\n",
        "        return \"Even\"\n",
        "    else:\n",
        "        return \"Odd\"\n",
        "\n",
        "# Test the function\n",
        "num = int(input(\"Enter a number: \"))\n",
        "result = check_even_odd(num)\n",
        "print(f\"The number {num} is {result}.\")\n"
      ]
    },
    {
      "cell_type": "code",
      "source": [
        "def is_prime(n):\n",
        "    if n <= 1:\n",
        "        return False\n",
        "    if n <= 3:\n",
        "        return True\n",
        "    if n % 2 == 0 or n % 3 == 0:\n",
        "        return False\n",
        "    i = 5\n",
        "    while i * i <= n:\n",
        "        if n % i == 0 or n % (i + 2) == 0:\n",
        "            return False\n",
        "        i += 6\n",
        "    return True\n",
        "number = int(input(\"Enter a number: \"))\n",
        "if is_prime(number):\n",
        "    print(f\"{number} is a prime number.\")\n",
        "else:\n",
        "    print(f\"{number} is not a prime number.\")\n"
      ],
      "metadata": {
        "colab": {
          "base_uri": "https://localhost:8080/"
        },
        "id": "iL9FDxMxWbe-",
        "outputId": "3c4c0d8a-25f6-4f41-f6e1-31b3f132b56f"
      },
      "execution_count": null,
      "outputs": [
        {
          "output_type": "stream",
          "name": "stdout",
          "text": [
            "Enter a number: 10\n",
            "10 is not a prime number.\n"
          ]
        }
      ]
    },
    {
      "cell_type": "code",
      "source": [
        "def factorial(n):\n",
        "    if n == 0 or n == 1:\n",
        "        return 1\n",
        "    else:\n",
        "        return n * factorial(n - 1)\n",
        "\n",
        "# Get input from the user\n",
        "num = int(input(\"Enter a number: \"))\n",
        "\n",
        "# Calculate and print the factorial\n",
        "result = factorial(num)\n",
        "print(f\"The factorial of {num} is {result}\")\n"
      ],
      "metadata": {
        "colab": {
          "base_uri": "https://localhost:8080/"
        },
        "id": "Irvc3q8VWx2Q",
        "outputId": "498a0bc3-c739-45d6-e8ca-2d6054fc9a03"
      },
      "execution_count": null,
      "outputs": [
        {
          "output_type": "stream",
          "name": "stdout",
          "text": [
            "Enter a number: 4\n",
            "The factorial of 4 is 24\n"
          ]
        }
      ]
    },
    {
      "cell_type": "code",
      "source": [
        "num1 = input('Enter first number: ')\n",
        "num2 = input('Enter second number: ')\n",
        "sum = float(num1) + float(num2)\n",
        "print('The sum of {0} and {1} is {2}'.format(num1, num2, sum))"
      ],
      "metadata": {
        "colab": {
          "base_uri": "https://localhost:8080/"
        },
        "id": "tVyG1IShW-QN",
        "outputId": "c09f8874-03fa-40a7-9d30-863ada934d3a"
      },
      "execution_count": null,
      "outputs": [
        {
          "output_type": "stream",
          "name": "stdout",
          "text": [
            "Enter first number: 7\n",
            "Enter second number: 4\n",
            "The sum of 7 and 4 is 11.0\n"
          ]
        }
      ]
    },
    {
      "cell_type": "code",
      "source": [
        "import cmath\n",
        "a = float(input('Enter a: '))\n",
        "b = float(input('Enter b: '))\n",
        "c = float(input('Enter c: '))\n",
        "d = (b**2) - (4*a*c)\n",
        "sol1 = (-b-cmath.sqrt(d))/(2*a)\n",
        "sol2 = (-b+cmath.sqrt(d))/(2*a)\n",
        "print('The solution are {0} and {1}'.format(sol1,sol2))"
      ],
      "metadata": {
        "colab": {
          "base_uri": "https://localhost:8080/"
        },
        "id": "uDliuL5NYHLB",
        "outputId": "e1e9ae54-8183-46ea-e27a-694855747982"
      },
      "execution_count": null,
      "outputs": [
        {
          "output_type": "stream",
          "name": "stdout",
          "text": [
            "Enter a: 8\n",
            "Enter b: 5\n",
            "Enter c: 9\n",
            "The solution are (-0.3125-1.0135796712641785j) and (-0.3125+1.0135796712641785j)\n"
          ]
        }
      ]
    },
    {
      "cell_type": "code",
      "source": [
        "P = int( input(\"Please enter value for P: \"))\n",
        "Q = int( input(\"Please enter value for Q: \"))\n",
        "P = P ^ Q\n",
        "Q = P ^ Q\n",
        "P = P ^ Q\n",
        "print (\"The Value of P after swapping: \", P)\n",
        "print (\"The Value of Q after swapping: \", Q)"
      ],
      "metadata": {
        "colab": {
          "base_uri": "https://localhost:8080/"
        },
        "id": "qzo4Ty58YmCq",
        "outputId": "004b9965-5e55-487e-dc8a-7e4019c57e40"
      },
      "execution_count": null,
      "outputs": [
        {
          "output_type": "stream",
          "name": "stdout",
          "text": [
            "Please enter value for P: 4\n",
            "Please enter value for Q: 53435\n",
            "The Value of P after swapping:  53435\n",
            "The Value of Q after swapping:  4\n"
          ]
        }
      ]
    },
    {
      "cell_type": "code",
      "source": [
        "import random\n",
        "rand_list = []\n",
        "for i in range(0,10):\n",
        "    n = random.randint(1,50)\n",
        "    rand_list.append(n)\n",
        "print(rand_list)"
      ],
      "metadata": {
        "colab": {
          "base_uri": "https://localhost:8080/"
        },
        "id": "63B1xE5pZKFB",
        "outputId": "a63acd73-f673-401e-ff94-9d30bb71192e"
      },
      "execution_count": null,
      "outputs": [
        {
          "output_type": "stream",
          "name": "stdout",
          "text": [
            "[38, 47, 43, 47, 22, 40, 38, 3, 43, 14]\n"
          ]
        }
      ]
    },
    {
      "cell_type": "code",
      "source": [
        "def celsius_to_fahrenheit(celsius):\n",
        "    fahrenheit = (celsius * 9/5) + 32\n",
        "    return fahrenheit\n",
        "celsius = float(input(\"Enter temperature in Celsius: \"))\n",
        "fahrenheit = celsius_to_fahrenheit(celsius)\n",
        "print(f\"{celsius} degrees Celsius is equal to {fahrenheit} degrees Fahrenheit\")"
      ],
      "metadata": {
        "colab": {
          "base_uri": "https://localhost:8080/"
        },
        "id": "7ypPKvm1ZZeo",
        "outputId": "315ab947-5cba-473a-aa55-471350c71b7b"
      },
      "execution_count": null,
      "outputs": [
        {
          "output_type": "stream",
          "name": "stdout",
          "text": [
            "Enter temperature in Celsius: 34\n",
            "34.0 degrees Celsius is equal to 93.2 degrees Fahrenheit\n"
          ]
        }
      ]
    },
    {
      "cell_type": "code",
      "source": [
        "import calendar\n",
        "yy = int(input(\"Enter year: \"))\n",
        "mm = int(input(\"Enter month: \"))\n",
        "print(calendar.month(yy,mm))"
      ],
      "metadata": {
        "colab": {
          "base_uri": "https://localhost:8080/"
        },
        "id": "Z_FiS6MAaSnw",
        "outputId": "998f491c-d77e-4072-ba6e-be1f3df859fd"
      },
      "execution_count": null,
      "outputs": [
        {
          "output_type": "stream",
          "name": "stdout",
          "text": [
            "Enter year: 2003\n",
            "Enter month: 08\n",
            "    August 2003\n",
            "Mo Tu We Th Fr Sa Su\n",
            "             1  2  3\n",
            " 4  5  6  7  8  9 10\n",
            "11 12 13 14 15 16 17\n",
            "18 19 20 21 22 23 24\n",
            "25 26 27 28 29 30 31\n",
            "\n"
          ]
        }
      ]
    },
    {
      "cell_type": "code",
      "source": [
        "def add_matrices(matrix1, matrix2):\n",
        "    if len(matrix1) != len(matrix2) or len(matrix1[0]) != len(matrix2[0]):\n",
        "        raise ValueError(\"Matrices must have the same dimensions for addition.\")\n",
        "\n",
        "    result = []\n",
        "    for i in range(len(matrix1)):\n",
        "        row = []\n",
        "        for j in range(len(matrix1[0])):\n",
        "            row.append(matrix1[i][j] + matrix2[i][j])\n",
        "        result.append(row)\n",
        "\n",
        "    return result\n",
        "\n",
        "def main():\n",
        "    try:\n",
        "        rows = int(input(\"Enter the number of rows: \"))\n",
        "        cols = int(input(\"Enter the number of columns: \"))\n",
        "\n",
        "        matrix1 = []\n",
        "        matrix2 = []\n",
        "\n",
        "        print(\"Enter elements of matrix 1:\")\n",
        "        for i in range(rows):\n",
        "            row = []\n",
        "            for j in range(cols):\n",
        "                element = int(input(f\"Enter element at position ({i+1},{j+1}): \"))\n",
        "                row.append(element)\n",
        "            matrix1.append(row)\n",
        "\n",
        "        print(\"Enter elements of matrix 2:\")\n",
        "        for i in range(rows):\n",
        "            row = []\n",
        "            for j in range(cols):\n",
        "                element = int(input(f\"Enter element at position ({i+1},{j+1}): \"))\n",
        "                row.append(element)\n",
        "            matrix2.append(row)\n",
        "\n",
        "        result = add_matrices(matrix1, matrix2)\n",
        "\n",
        "        print(\"Matrix 1:\")\n",
        "        for row in matrix1:\n",
        "            print(row)\n",
        "\n",
        "        print(\"Matrix 2:\")\n",
        "        for row in matrix2:\n",
        "            print(row)\n",
        "\n",
        "        print(\"Sum of matrices:\")\n",
        "        for row in result:\n",
        "            print(row)\n",
        "\n",
        "    except ValueError as ve:\n",
        "        print(ve)\n",
        "    except Exception as e:\n",
        "        print(\"An error occurred:\", e)\n",
        "\n",
        "if __name__ == \"__main__\":\n",
        "    main()\n"
      ],
      "metadata": {
        "colab": {
          "base_uri": "https://localhost:8080/"
        },
        "id": "apF9mHHUab56",
        "outputId": "681413cf-5cd3-4945-b489-8914b356ce5b"
      },
      "execution_count": null,
      "outputs": [
        {
          "output_type": "stream",
          "name": "stdout",
          "text": [
            "Enter the number of rows: 3\n",
            "Enter the number of columns: 3\n",
            "Enter elements of matrix 1:\n",
            "Enter element at position (1,1): 4\n",
            "Enter element at position (1,2): 2\n",
            "Enter element at position (1,3): 3\n",
            "Enter element at position (2,1): 4\n",
            "Enter element at position (2,2): 2\n",
            "Enter element at position (2,3): 3\n",
            "Enter element at position (3,1): 4\n",
            "Enter element at position (3,2): 2\n",
            "Enter element at position (3,3): 3\n",
            "Enter elements of matrix 2:\n",
            "Enter element at position (1,1): 4\n",
            "Enter element at position (1,2): 2\n",
            "Enter element at position (1,3): 3\n",
            "Enter element at position (2,1): 4\n",
            "Enter element at position (2,2): 2\n",
            "Enter element at position (2,3): 3\n",
            "Enter element at position (3,1): 4\n",
            "Enter element at position (3,2): 2\n",
            "Enter element at position (3,3): 3\n",
            "Matrix 1:\n",
            "[4, 2, 3]\n",
            "[4, 2, 3]\n",
            "[4, 2, 3]\n",
            "Matrix 2:\n",
            "[4, 2, 3]\n",
            "[4, 2, 3]\n",
            "[4, 2, 3]\n",
            "Sum of matrices:\n",
            "[8, 4, 6]\n",
            "[8, 4, 6]\n",
            "[8, 4, 6]\n"
          ]
        }
      ]
    },
    {
      "cell_type": "code",
      "source": [
        "def transpose_matrix(matrix):\n",
        "    rows = len(matrix)\n",
        "    cols = len(matrix[0])\n",
        "    transposed = [[0 for _ in range(rows)] for _ in range(cols)]\n",
        "    for i in range(rows):\n",
        "        for j in range(cols):\n",
        "            transposed[j][i] = matrix[i][j]\n",
        "\n",
        "    return transposed\n",
        "matrix = [[1, 2, 3],[4, 5, 6],[7, 8, 9]]\n",
        "transposed_matrix = transpose_matrix(matrix)\n",
        "print(\"Original Matrix:\")\n",
        "for row in matrix:\n",
        "    print(row)\n",
        "\n",
        "print(\"\\nTransposed Matrix:\")\n",
        "for row in transposed_matrix:\n",
        "    print(row)\n"
      ],
      "metadata": {
        "colab": {
          "base_uri": "https://localhost:8080/"
        },
        "id": "gj4WATtwbd98",
        "outputId": "546ecb6b-1ac9-4ac2-a46b-906f05cce32b"
      },
      "execution_count": null,
      "outputs": [
        {
          "output_type": "stream",
          "name": "stdout",
          "text": [
            "Original Matrix:\n",
            "[1, 2, 3]\n",
            "[4, 5, 6]\n",
            "[7, 8, 9]\n",
            "\n",
            "Transposed Matrix:\n",
            "[1, 4, 7]\n",
            "[2, 5, 8]\n",
            "[3, 6, 9]\n"
          ]
        }
      ]
    },
    {
      "cell_type": "code",
      "source": [
        "def sort_words_alphabetically(words):\n",
        "    sorted_words = sorted(words)\n",
        "    return sorted_words\n",
        "input_words = input(\"Enter a list of words separated by spaces: \").split()\n",
        "sorted_words = sort_words_alphabetically(input_words)\n",
        "print(\"Sorted words:\", sorted_words)"
      ],
      "metadata": {
        "colab": {
          "base_uri": "https://localhost:8080/"
        },
        "id": "17fOBMflcBQb",
        "outputId": "17c81441-05cb-4224-c908-e1c332c9d8dd"
      },
      "execution_count": null,
      "outputs": [
        {
          "output_type": "stream",
          "name": "stdout",
          "text": [
            "Enter a list of words separated by spaces: I am Venuteja Pakala \n",
            "Sorted words: ['I', 'Pakala', 'Venuteja', 'am']\n"
          ]
        }
      ]
    },
    {
      "cell_type": "code",
      "source": [
        "def NumberCheck(a):\n",
        "    if a > 0:\n",
        "        print(\"Number given by you is Positive\")\n",
        "    elif a < 0:\n",
        "        print(\"Number given by you is Negative\")\n",
        "    else:\n",
        "        print(\"Number given by you is zero\")\n",
        "a = float(input(\"Enter a number as input value: \"))\n",
        "NumberCheck(a)"
      ],
      "metadata": {
        "colab": {
          "base_uri": "https://localhost:8080/"
        },
        "id": "km5DmRRlck9m",
        "outputId": "87c436ff-8344-48cf-ea11-9b1d7f897035"
      },
      "execution_count": null,
      "outputs": [
        {
          "output_type": "stream",
          "name": "stdout",
          "text": [
            "Enter a number as input value: -89787\n",
            "Number given by you is Negative\n"
          ]
        }
      ]
    },
    {
      "cell_type": "code",
      "source": [
        "def CheckLeap(Year):\n",
        "  if((Year % 400 == 0) or\n",
        "     (Year % 100 != 0) and\n",
        "     (Year % 4 == 0)):\n",
        "    print(\"Given Year is a leap Year\");\n",
        "  else:\n",
        "    print (\"Given Year is not a leap Year\")\n",
        "Year = int(input(\"Enter the number: \"))\n",
        "CheckLeap(Year)"
      ],
      "metadata": {
        "colab": {
          "base_uri": "https://localhost:8080/"
        },
        "id": "9Ml2Uftqc3_v",
        "outputId": "8ca9e9cd-34f4-484c-85a1-60dbad1d0b67"
      },
      "execution_count": null,
      "outputs": [
        {
          "output_type": "stream",
          "name": "stdout",
          "text": [
            "Enter the number: 2003\n",
            "Given Year is not a leap Year\n"
          ]
        }
      ]
    },
    {
      "cell_type": "code",
      "source": [
        "number = int(input (\"Enter the number of which the user wants to print the multiplication table: \"))\n",
        "print (\"The Multiplication Table of: \", number)\n",
        "for count in range(1, 11):\n",
        "   print (number, 'x', count, '=', number * count)"
      ],
      "metadata": {
        "colab": {
          "base_uri": "https://localhost:8080/"
        },
        "id": "tc-nsliedFbT",
        "outputId": "7a90b646-5050-4375-89c8-e1c987a96032"
      },
      "execution_count": null,
      "outputs": [
        {
          "output_type": "stream",
          "name": "stdout",
          "text": [
            "Enter the number of which the user wants to print the multiplication table: 5\n",
            "The Multiplication Table of:  5\n",
            "5 x 1 = 5\n",
            "5 x 2 = 10\n",
            "5 x 3 = 15\n",
            "5 x 4 = 20\n",
            "5 x 5 = 25\n",
            "5 x 6 = 30\n",
            "5 x 7 = 35\n",
            "5 x 8 = 40\n",
            "5 x 9 = 45\n",
            "5 x 10 = 50\n"
          ]
        }
      ]
    },
    {
      "cell_type": "code",
      "source": [
        "n = int(input (\"Enter the number you want to print: \"))\n",
        "a = 0\n",
        "b = 1\n",
        "for i in range(0,n):\n",
        "    print(a, end = \" \")\n",
        "    c = a+b\n",
        "    a = b\n",
        "    b = c"
      ],
      "metadata": {
        "colab": {
          "base_uri": "https://localhost:8080/"
        },
        "id": "o4OsUHy3dZq8",
        "outputId": "b9b175bd-0d65-4d6f-9180-9449772d1cd0"
      },
      "execution_count": null,
      "outputs": [
        {
          "output_type": "stream",
          "name": "stdout",
          "text": [
            "Enter the number you want to print: 5\n",
            "0 1 1 2 3 "
          ]
        }
      ]
    },
    {
      "cell_type": "code",
      "source": [
        "def is_armstrong_number(number):\n",
        "    num_str = str(number)\n",
        "    num_digits = len(num_str)\n",
        "    sum_of_digits = 0\n",
        "    for digit_char in num_str:\n",
        "        digit = int(digit_char)\n",
        "        sum_of_digits += digit ** num_digits\n",
        "    if sum_of_digits == number:\n",
        "        return True\n",
        "    else:\n",
        "        return False\n",
        "num = int(input(\"Enter a number: \"))\n",
        "if is_armstrong_number(num):\n",
        "    print(num, \"is an Armstrong number.\")\n",
        "else:\n",
        "    print(num, \"is not an Armstrong number.\")\n"
      ],
      "metadata": {
        "colab": {
          "base_uri": "https://localhost:8080/"
        },
        "id": "TO6KM1Sid8wk",
        "outputId": "fb66472b-c350-4ba9-ab72-8cf1dcffff76"
      },
      "execution_count": null,
      "outputs": [
        {
          "output_type": "stream",
          "name": "stdout",
          "text": [
            "Enter a number: 8\n",
            "8 is an Armstrong number.\n"
          ]
        }
      ]
    },
    {
      "cell_type": "code",
      "source": [
        "num = int(input(\"Enter a number: \"))\n",
        "if num < 0:\n",
        "   print(\"Enter a positive number\")\n",
        "else:\n",
        "   sum = 0\n",
        "   while(num > 0):\n",
        "       sum += num\n",
        "       num -= 1\n",
        "   print(\"The sum is\",sum)"
      ],
      "metadata": {
        "colab": {
          "base_uri": "https://localhost:8080/"
        },
        "id": "3Obzdo7Le86j",
        "outputId": "f347e1af-6ea1-469c-a279-bbdc38e34f11"
      },
      "execution_count": null,
      "outputs": [
        {
          "output_type": "stream",
          "name": "stdout",
          "text": [
            "Enter a number: 100\n",
            "The sum is 5050\n"
          ]
        }
      ]
    },
    {
      "cell_type": "code",
      "source": [
        "def calculate_lcm(x, y):\n",
        "    if x > y:\n",
        "        greater = x\n",
        "    else:\n",
        "        greater = y\n",
        "    while(True):\n",
        "        if((greater % x == 0) and (greater % y == 0)):\n",
        "            lcm = greater\n",
        "            break\n",
        "        greater += 1\n",
        "    return lcm\n",
        "num1 = int(input(\"Enter first number: \"))\n",
        "num2 = int(input(\"Enter second number: \"))\n",
        "print(\"The L.C.M. of\", num1,\"and\", num2,\"is\", calculate_lcm(num1, num2))"
      ],
      "metadata": {
        "colab": {
          "base_uri": "https://localhost:8080/"
        },
        "id": "oi0kHqgyfJ5q",
        "outputId": "c93258d2-3b2e-4c96-c0bf-e22ecdb65336"
      },
      "execution_count": null,
      "outputs": [
        {
          "output_type": "stream",
          "name": "stdout",
          "text": [
            "Enter first number: 2\n",
            "Enter second number: 4\n",
            "The L.C.M. of 2 and 4 is 4\n"
          ]
        }
      ]
    },
    {
      "cell_type": "code",
      "source": [
        "def calculate_hcf(x, y):\n",
        "    if x > y:\n",
        "        smaller = y\n",
        "    else:\n",
        "        smaller = x\n",
        "    for i in range(1,smaller + 1):\n",
        "        if((x % i == 0) and (y % i == 0)):\n",
        "            hcf = i\n",
        "    return hcf\n",
        "num1 = int(input(\"Enter first number: \"))\n",
        "num2 = int(input(\"Enter second number: \"))\n",
        "print(\"The H.C.F. of\", num1,\"and\", num2,\"is\", calculate_hcf(num1, num2))"
      ],
      "metadata": {
        "colab": {
          "base_uri": "https://localhost:8080/"
        },
        "id": "DiJ0L2aNfW0K",
        "outputId": "4b432c1a-fd73-4979-80c1-d9e027d567d3"
      },
      "execution_count": null,
      "outputs": [
        {
          "output_type": "stream",
          "name": "stdout",
          "text": [
            "Enter first number: 2\n",
            "Enter second number: 4\n",
            "The H.C.F. of 2 and 4 is 2\n"
          ]
        }
      ]
    },
    {
      "cell_type": "code",
      "source": [
        "def largest(arr, n):\n",
        "\tmax = arr[0]\n",
        "\tfor i in range(1, n):\n",
        "\t\tif arr[i] > max:\n",
        "\t\t\tmax = arr[i]\n",
        "\treturn max\n",
        "arr = [10, 324, 45, 90, 9808]\n",
        "n = len(arr)\n",
        "Ans = largest(arr, n)\n",
        "print(\"Largest in given array \", Ans)\n"
      ],
      "metadata": {
        "colab": {
          "base_uri": "https://localhost:8080/"
        },
        "id": "c19nXKBYgTSH",
        "outputId": "59079a42-edd3-4d34-d72e-3b11f60e018d"
      },
      "execution_count": null,
      "outputs": [
        {
          "output_type": "stream",
          "name": "stdout",
          "text": [
            "Largest in given array  9808\n"
          ]
        }
      ]
    }
  ]
}